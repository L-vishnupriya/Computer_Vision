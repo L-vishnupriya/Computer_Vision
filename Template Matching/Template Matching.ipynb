{
 "cells": [
  {
   "cell_type": "markdown",
   "id": "73772c82-f4f8-499d-9fa7-302089871c99",
   "metadata": {},
   "source": [
    "Template Matching :"
   ]
  },
  {
   "cell_type": "code",
   "execution_count": 41,
   "id": "47dbdb5d-7336-4d5a-b7f7-45ffd23eefdd",
   "metadata": {},
   "outputs": [
    {
     "name": "stdout",
     "output_type": "stream",
     "text": [
      "Best match position (x, y): [275, 125]\n",
      "\n",
      "--- Time Analysis ---\n",
      "Time for template matching: 0.00004010 seconds\n"
     ]
    }
   ],
   "source": [
    "import time  # Import the time module to measure time\n",
    "import cv2\n",
    "import numpy as np\n",
    "\n",
    "# Load images\n",
    "full = cv2.imread(\"C:\\\\Users\\\\vishn\\\\Downloads\\\\full_image.jpg\")\n",
    "block = cv2.imread(\"C:\\\\Users\\\\vishn\\\\Downloads\\\\block.jpg\")\n",
    "\n",
    "# Convert images to grayscale if they are not already\n",
    "full_gray = cv2.cvtColor(full, cv2.COLOR_BGR2GRAY)\n",
    "block_gray = cv2.cvtColor(block, cv2.COLOR_BGR2GRAY)\n",
    "\n",
    "# Get dimensions of the block and source image\n",
    "block_height, block_width = block_gray.shape[:2]  # Height and width of the block (template)\n",
    "full_height, full_width = full_gray.shape[:2]  # Height and width of the source image\n",
    "\n",
    "# Ensure the block size is smaller than the source image\n",
    "if block_height > full_height or block_width > full_width:\n",
    "    raise ValueError(\"Template (block) is larger than the source image\")\n",
    "\n",
    "# Initialize variables for sliding window\n",
    "srow, erow = 0, full_height - block_height\n",
    "scol, ecol = 0, full_width - block_width\n",
    "\n",
    "position = None\n",
    "f_score = float('inf')  # Initialize the best score to infinity\n",
    "\n",
    "# Slide the block over the source image\n",
    "for x in range(srow, erow + 1):\n",
    "    for y in range(scol, ecol + 1):\n",
    "        # Extract the current window from the source image\n",
    "        window = full_gray[x:x + block_height, y:y + block_width]\n",
    "        \n",
    "        # Compute the normalized SSD score\n",
    "        score = ((window - block_gray) ** 2).sum() / (block_height * block_width)\n",
    "        \n",
    "        # Update the best score and position if current score is better\n",
    "        if score < f_score:\n",
    "            f_score = score\n",
    "            position = [y, x]\n",
    "\n",
    "# Print the position of the best match\n",
    "if position is not None:\n",
    "    print(\"Best match position (x, y):\", position)\n",
    "else:\n",
    "    print(\"No match found\")\n",
    "\n",
    "#Time analysis:\n",
    "# Template matching\n",
    "\n",
    "start_time = time.perf_counter()\n",
    "\n",
    "end_time = time.perf_counter()\n",
    "\n",
    "# Time analysis printout\n",
    "print(\"\\n--- Time Analysis ---\")\n",
    "\n",
    "print(f\"Time for template matching: {end_time - start_time:.8f} seconds\")"
   ]
  },
  {
   "cell_type": "code",
   "execution_count": null,
   "id": "ea396c1c-f289-466a-b443-2939165af670",
   "metadata": {},
   "outputs": [],
   "source": []
  }
 ],
 "metadata": {
  "kernelspec": {
   "display_name": "Python 3 (ipykernel)",
   "language": "python",
   "name": "python3"
  },
  "language_info": {
   "codemirror_mode": {
    "name": "ipython",
    "version": 3
   },
   "file_extension": ".py",
   "mimetype": "text/x-python",
   "name": "python",
   "nbconvert_exporter": "python",
   "pygments_lexer": "ipython3",
   "version": "3.11.7"
  }
 },
 "nbformat": 4,
 "nbformat_minor": 5
}
