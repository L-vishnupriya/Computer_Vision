{
 "cells": [
  {
   "cell_type": "code",
   "execution_count": 12,
   "id": "5421540e-2f77-4189-b68c-0049ecf57725",
   "metadata": {},
   "outputs": [
    {
     "name": "stdout",
     "output_type": "stream",
     "text": [
      "MoviePy - Building file output.gif with imageio.\n"
     ]
    },
    {
     "name": "stderr",
     "output_type": "stream",
     "text": [
      "                                                                                                                       \r"
     ]
    },
    {
     "name": "stdout",
     "output_type": "stream",
     "text": [
      "Gif saved as output.gif\n"
     ]
    }
   ],
   "source": [
    "import cv2\n",
    "import numpy as np\n",
    "import random\n",
    "from moviepy.editor import VideoFileClip\n",
    "\n",
    "# Video settings\n",
    "frame_width = 640\n",
    "frame_height = 360\n",
    "fps = 30\n",
    "num_frames_per_letter = 10\n",
    "total_letters = len(\"Good Times\")  # \"Good Times\" has 9 letters\n",
    "num_frames = total_letters * num_frames_per_letter  # Total frames for video\n",
    "\n",
    "# Text settings\n",
    "text_good_x, text_good_y = 150, 150\n",
    "text_times_x, text_times_y = 150, 250\n",
    "font = cv2.FONT_HERSHEY_SIMPLEX\n",
    "font_scale = 2\n",
    "thickness = 3\n",
    "\n",
    "# Helper functions\n",
    "def hsv_to_rgb(h, s, v):\n",
    "    # Convert HSV to BGR and ensure the values are integers\n",
    "    rgb_color = cv2.cvtColor(np.uint8([[[h, s, v]]]), cv2.COLOR_HSV2BGR)[0][0]\n",
    "    return tuple(int(c) for c in rgb_color)  # Ensure values are integer and in tuple form\n",
    "\n",
    "def random_hue():\n",
    "    return random.randint(0, 179), 200, 255\n",
    "\n",
    "# Video writer setup\n",
    "output_path = 'slower_blinking_letter_and_background.mp4'\n",
    "fourcc = cv2.VideoWriter_fourcc(*'mp4v')\n",
    "out = cv2.VideoWriter(output_path, fourcc, fps, (frame_width, frame_height))\n",
    "\n",
    "# Initialize colors for each letter\n",
    "letter_colors = [(255, 255, 255) for _ in range(total_letters)]\n",
    "\n",
    "# Generate frames\n",
    "for frame_idx in range(num_frames):\n",
    "    # Determine which letter should blink\n",
    "    letter_index = frame_idx // num_frames_per_letter\n",
    "\n",
    "    # Change background and letter colors every 10 frames\n",
    "    if frame_idx % num_frames_per_letter == 0:\n",
    "        background_color = hsv_to_rgb(*random_hue())\n",
    "        letter_colors = [(255, 255, 255) for _ in range(total_letters)]\n",
    "        letter_colors[letter_index] = hsv_to_rgb(*random_hue())  # Current letter blinks\n",
    "\n",
    "    # Create a new blank frame\n",
    "    frame = np.zeros((frame_height, frame_width, 3), dtype=np.uint8)\n",
    "    frame[:] = background_color  # Fill with background color\n",
    "\n",
    "    # Draw the word \"Good\"\n",
    "    x = text_good_x\n",
    "    for i, letter in enumerate(\"Good\"):\n",
    "        cv2.putText(frame, letter, (x, text_good_y), font, font_scale, letter_colors[i], thickness)\n",
    "        x += 60  # Move position for the next letter\n",
    "\n",
    "    # Draw the word \"Times\"\n",
    "    x = text_times_x\n",
    "    for i, letter in enumerate(\"Times\", 4):  # Start index from 4 as \"Good\" has 4 letters\n",
    "        cv2.putText(frame, letter, (x, text_times_y), font, font_scale, letter_colors[i], thickness)\n",
    "        x += 60  # Move position for the next letter\n",
    "\n",
    "    # Write the frame to the video\n",
    "    out.write(frame)\n",
    "\n",
    "# Release the video writer\n",
    "out.release()\n",
    "\n",
    "# Convert the video to GIF\n",
    "def convert_to_gif(video_path, gif_path):\n",
    "    clip = VideoFileClip(video_path)\n",
    "    clip.write_gif(gif_path)\n",
    "\n",
    "# Convert video to GIF\n",
    "vedioclip = VideoFileClip(output_path)\n",
    "output_gif_path = \"output.gif\"\n",
    "vedioclip.write_gif(output_gif_path, fps=fps)\n",
    "\n",
    "print(f\"Gif saved as {output_gif_path}\")\n"
   ]
  },
  {
   "cell_type": "code",
   "execution_count": null,
   "id": "55df2404-aefb-4be2-b10c-7b27a16f2646",
   "metadata": {},
   "outputs": [],
   "source": []
  }
 ],
 "metadata": {
  "kernelspec": {
   "display_name": "Python 3 (ipykernel)",
   "language": "python",
   "name": "python3"
  },
  "language_info": {
   "codemirror_mode": {
    "name": "ipython",
    "version": 3
   },
   "file_extension": ".py",
   "mimetype": "text/x-python",
   "name": "python",
   "nbconvert_exporter": "python",
   "pygments_lexer": "ipython3",
   "version": "3.11.7"
  }
 },
 "nbformat": 4,
 "nbformat_minor": 5
}
