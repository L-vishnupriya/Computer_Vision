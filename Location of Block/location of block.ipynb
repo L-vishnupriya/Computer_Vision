{
 "cells": [
  {
   "cell_type": "code",
   "execution_count": 11,
   "id": "90c24e36-61a9-43cb-9105-ef6926f6c33e",
   "metadata": {},
   "outputs": [],
   "source": [
    "import cv2\n",
    "import numpy as np\n",
    "\n"
   ]
  },
  {
   "cell_type": "code",
   "execution_count": 12,
   "id": "2a546e8e-05e4-4ce0-87b0-893852677d10",
   "metadata": {},
   "outputs": [],
   "source": [
    "# Load the block and full images\n",
    "block = cv2.imread(\"C:\\\\Users\\\\vishn\\\\Downloads\\\\block.jpg\")\n",
    "full_image = cv2.imread(\"C:\\\\Users\\\\vishn\\\\Downloads\\\\full_image.jpg\")\n",
    "\n"
   ]
  },
  {
   "cell_type": "code",
   "execution_count": 13,
   "id": "874b31b9-17cf-4aac-a961-56ea4c49c140",
   "metadata": {},
   "outputs": [],
   "source": [
    "# Convert images to grayscale\n",
    "block_gray = cv2.cvtColor(block, cv2.COLOR_BGR2GRAY)\n",
    "full_image_gray = cv2.cvtColor(full_image, cv2.COLOR_BGR2GRAY)"
   ]
  },
  {
   "cell_type": "code",
   "execution_count": 14,
   "id": "13558b41-3e32-4215-93ea-819653a69a43",
   "metadata": {},
   "outputs": [],
   "source": [
    "# Perform template matching\n",
    "result = cv2.matchTemplate(full_image_gray, block_gray, cv2.TM_CCOEFF_NORMED)\n",
    "\n",
    "# Find the best match location\n",
    "min_val, max_val, min_loc, max_loc = cv2.minMaxLoc(result)\n"
   ]
  },
  {
   "cell_type": "code",
   "execution_count": 15,
   "id": "bf0b9654-ed95-4b42-a792-5e120282e7d5",
   "metadata": {},
   "outputs": [
    {
     "data": {
      "text/plain": [
       "array([[[255, 255, 255],\n",
       "        [255, 255, 255],\n",
       "        [255, 255, 255],\n",
       "        ...,\n",
       "        [255, 255, 255],\n",
       "        [255, 255, 255],\n",
       "        [255, 255, 255]],\n",
       "\n",
       "       [[255, 255, 255],\n",
       "        [255, 255, 255],\n",
       "        [255, 255, 255],\n",
       "        ...,\n",
       "        [255, 255, 255],\n",
       "        [255, 255, 255],\n",
       "        [255, 255, 255]],\n",
       "\n",
       "       [[255, 255, 255],\n",
       "        [255, 255, 255],\n",
       "        [255, 255, 255],\n",
       "        ...,\n",
       "        [255, 255, 255],\n",
       "        [255, 255, 255],\n",
       "        [255, 255, 255]],\n",
       "\n",
       "       ...,\n",
       "\n",
       "       [[255, 255, 255],\n",
       "        [255, 255, 255],\n",
       "        [255, 255, 255],\n",
       "        ...,\n",
       "        [255, 255, 255],\n",
       "        [255, 255, 255],\n",
       "        [255, 255, 255]],\n",
       "\n",
       "       [[255, 255, 255],\n",
       "        [255, 255, 255],\n",
       "        [255, 255, 255],\n",
       "        ...,\n",
       "        [255, 255, 255],\n",
       "        [255, 255, 255],\n",
       "        [255, 255, 255]],\n",
       "\n",
       "       [[255, 255, 255],\n",
       "        [255, 255, 255],\n",
       "        [255, 255, 255],\n",
       "        ...,\n",
       "        [255, 255, 255],\n",
       "        [255, 255, 255],\n",
       "        [255, 255, 255]]], dtype=uint8)"
      ]
     },
     "execution_count": 15,
     "metadata": {},
     "output_type": "execute_result"
    }
   ],
   "source": [
    "# Draw a rectangle around the matched region\n",
    "h, w = block_gray.shape\n",
    "top_left = max_loc\n",
    "bottom_right = (top_left[0] + w, top_left[1] + h)\n",
    "\n",
    "# Draw the rectangle on the full image\n",
    "cv2.rectangle(full_image, top_left, bottom_right, (0, 0, 255), 2)"
   ]
  },
  {
   "cell_type": "code",
   "execution_count": 16,
   "id": "b2471a8a-4e69-4341-9ccc-7fc9f512bf72",
   "metadata": {},
   "outputs": [
    {
     "name": "stdout",
     "output_type": "stream",
     "text": [
      "Block detected at top-left: (275, 125), bottom-right: (295, 145)\n",
      "Block detected and saved as 'detected_block_output.jpg'\n"
     ]
    }
   ],
   "source": [
    "# Save the result image to a file instead of displaying it\n",
    "cv2.imwrite(\"C:\\\\Users\\\\vishn\\\\Downloads\\\\detected_block_output.jpg\", full_image)\n",
    "\n",
    "# Print the location of the block\n",
    "print(f\"Block detected at top-left: {top_left}, bottom-right: {bottom_right}\") #Block found at: Top-left: (x, y), Bottom-right: (x+w, y+h)\n",
    "\n",
    "print(\"Block detected and saved as 'detected_block_output.jpg'\")"
   ]
  },
  {
   "cell_type": "code",
   "execution_count": null,
   "id": "ec45a3b7-b065-4f45-bd62-ca6b2759bbf1",
   "metadata": {},
   "outputs": [],
   "source": []
  }
 ],
 "metadata": {
  "kernelspec": {
   "display_name": "Python 3 (ipykernel)",
   "language": "python",
   "name": "python3"
  },
  "language_info": {
   "codemirror_mode": {
    "name": "ipython",
    "version": 3
   },
   "file_extension": ".py",
   "mimetype": "text/x-python",
   "name": "python",
   "nbconvert_exporter": "python",
   "pygments_lexer": "ipython3",
   "version": "3.11.7"
  }
 },
 "nbformat": 4,
 "nbformat_minor": 5
}
